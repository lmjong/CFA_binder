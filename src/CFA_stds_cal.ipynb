{
 "cells": [
  {
   "cell_type": "code",
   "execution_count": 11,
   "outputs": [],
   "source": [
    "import numpy as np\n",
    "import matplotlib\n",
    "import matplotlib.pyplot as plt\n",
    "import pandas as pd\n",
    "\n",
    "import os\n",
    "\n",
    "import scipy.ndimage\n",
    "import xarray as xr\n",
    "from collections import defaultdict\n",
    "from scipy.signal import butter,filtfilt,savgol_filter, find_peaks, find_peaks_cwt, detrend, peak_prominences,peak_widths\n",
    "import scipy\n",
    "\n",
    "import ipywidgets as widgets\n",
    "from ipywidgets import interact, interactive, fixed, interact_manual\n",
    "from IPython.display import display\n",
    "\n",
    "from sklearn import linear_model\n",
    "\n",
    "import panel as pn\n",
    "import param\n",
    "from pathlib import Path\n",
    "\n",
    "import functools\n",
    "import plotly.express as px\n",
    "import plotly.graph_objs as go\n",
    "\n",
    "from background_drift import subtract_background\n",
    "\n"
   ],
   "metadata": {
    "collapsed": false,
    "ExecuteTime": {
     "end_time": "2023-09-22T00:42:48.655887418Z",
     "start_time": "2023-09-22T00:42:48.590620946Z"
    }
   },
   "id": "initial_id"
  },
  {
   "cell_type": "code",
   "execution_count": 0,
   "id": "3dda709cd73bfc99",
   "metadata": {
    "collapsed": false
   },
   "outputs": [],
   "source": [
    "pn.extension(template='fast')\n",
    "pn.extension('plotly')"
   ]
  },
  {
   "cell_type": "markdown",
   "source": [
    "Define where the data currently resides - this could be done better but for now we'll give it a local directory"
   ],
   "metadata": {
    "collapsed": false
   },
   "id": "59c1c0f686034fd1"
  },
  {
   "cell_type": "code",
   "execution_count": 13,
   "outputs": [],
   "source": [
    "cwd=os.getcwd()\n",
    "#lets do the path stuff\n",
    "# browse to a directory\n",
    "data_dir=Path(cwd+'/test_data/20221216')\n",
    "data_files=list(data_dir.glob('*.txt'))\n"
   ],
   "metadata": {
    "collapsed": false,
    "ExecuteTime": {
     "end_time": "2023-09-22T00:45:53.441624035Z",
     "start_time": "2023-09-22T00:45:53.349209149Z"
    }
   },
   "id": "bcbaf9f828919e39"
  },
  {
   "cell_type": "code",
   "execution_count": 14,
   "outputs": [],
   "source": [
    "class Stage1(param.Parameterized):\n",
    "    \n",
    "    fig = go.Figure() \n",
    "   \n",
    "    _columns=['Conductivity','Sodium','HOOH','Calcium']\n",
    " \n",
    "    data_file=param.Selector(objects=list(data_dir.glob('*.txt')))\n",
    "    species = param.Selector(default='Conductivity',objects=list(_columns))\n",
    "\n",
    "\n",
    "    df=param.DataFrame()\n",
    "\n",
    "    timex=param.Array()\n",
    "\n",
    "\n",
    "    start_pos = param.Number()\n",
    "    end_pos = param.Number()\n",
    "    \n",
    "       \n",
    "    def sub_background(self):\n",
    "        print(\"did something\")\n",
    "        self.output_array=subtract_background(self.df[self.species],self.timex,self.start_pos,self.end_pos)\n",
    "        self.fig.add_trace(go.Scatter(x=self.df['Time'],y=self.output_array,mode='lines',name=self.species+\"_background\"))\n",
    "        #trigger the view\n",
    "    \n",
    "    def calc_endpoints(self,data):\n",
    "        window=51\n",
    "        smooth=savgol_filter(data, window_length=window, polyorder=2)\n",
    "        der2=savgol_filter(smooth, window_length=window, polyorder=2, deriv=2)\n",
    "        abs_der2=np.abs(der2)\n",
    "        max_der2 = np.max(der2)\n",
    "\n",
    "        peaks_der2,_=find_peaks(abs_der2,height=max_der2/20,wlen=window)\n",
    "\n",
    "        widths,heights,posl,posr=peak_widths(abs_der2,peaks_der2,rel_height=1)\n",
    "        start_pos=int(np.floor(posl[0]))\n",
    "        end_pos=int(np.ceil(posr[-1]))\n",
    "        return start_pos,end_pos,der2\n",
    "\n",
    "    def background_sub(self):\n",
    "        window=51\n",
    "        smooth=savgol_filter(data, window_length=window, polyorder=2)\n",
    "        der2=savgol_filter(smooth, window_length=window, polyorder=2, deriv=2)\n",
    "        abs_der2=np.abs(der2)\n",
    "        max_der2 = np.max(der2)\n",
    "        print(\"something\")\n",
    "\n",
    "    @param.depends('species','start_pos','end_pos')\n",
    "    def make_plot(self):\n",
    "        fig = self.fig\n",
    "        fig.add_trace(go.Scatter(x=self.df['Time'],y=self.df[self.species],mode='lines',name=self.species))\n",
    "        fig.add_vline(x=self.start_pos,line_color=\"red\")\n",
    "        fig.add_vline(x=self.end_pos,line_color=\"red\")\n",
    "\n",
    "        fig.update_layout(\n",
    "            title='Test',\n",
    "            xaxis_title='Time',\n",
    "            showlegend=True\n",
    "        )\n",
    "\n",
    "        return pn.Column(self.param.start_pos,self.param.end_pos,pn.pane.Plotly(fig))\n",
    "\n",
    "\n",
    "    @param.depends('data_file')\n",
    "    def view(self):\n",
    "        converters = {'MQ/Sample': str.strip, 'Time': int, 'Core Logging': str.strip,'Valve Indicator': str.strip}\n",
    "        self.df=pd.read_csv(self.data_file, delimiter='\\t',converters=converters)\n",
    "        print(list(self.df.columns))\n",
    "       # columns = list(self.df.columns)\n",
    "        #self.param['species'].objects=columns\n",
    "        self.species='Conductivity'\n",
    "        self.timex=self.df['Time'].values\n",
    "        self.param['start_pos'].bounds=(self.timex[0],self.timex[-1])\n",
    "        self.param['end_pos'].bounds=(self.timex[0],self.timex[-1])\n",
    "\n",
    "        _start_pos,_end_pos,_=self.calc_endpoints(self.df[self.species].values)\n",
    "        self.start_pos=self.timex[_start_pos]\n",
    "        self.end_pos=self.timex[_end_pos]\n",
    "        return self.param.species\n",
    "\n",
    "    def panel(self):\n",
    "        button=pn.widgets.Button(name='Foo', button_type='success')\n",
    "        button.on_click(lambda event: setattr(self,'read', True))\n",
    "        pn.Column(self.param.data_file,self.view,self.make_plot,button)"
   ],
   "metadata": {
    "collapsed": false,
    "ExecuteTime": {
     "end_time": "2023-09-22T00:49:15.256684334Z",
     "start_time": "2023-09-22T00:49:15.182607728Z"
    }
   },
   "id": "5de8db1dbdc56c17"
  },
  {
   "cell_type": "code",
   "execution_count": 15,
   "id": "821115d0-fa00-4fc8-81c1-f01c4d5a1afe",
   "metadata": {
    "ExecuteTime": {
     "end_time": "2023-09-22T00:49:25.710549430Z",
     "start_time": "2023-09-22T00:49:25.602457199Z"
    }
   },
   "outputs": [
    {
     "name": "stdout",
     "output_type": "stream",
     "text": [
      "Launching server at http://localhost:43689\n"
     ]
    },
    {
     "data": {
      "text/plain": "<panel.io.server.Server at 0x7f715351f730>"
     },
     "execution_count": 15,
     "metadata": {},
     "output_type": "execute_result"
    }
   ],
   "source": [
    "app = pn.Row(Stage1)\n",
    "app.servable()"
   ]
  },
  {
   "cell_type": "code",
   "execution_count": null,
   "outputs": [],
   "source": [],
   "metadata": {
    "collapsed": false
   },
   "id": "32b19e07c9a2db53"
  }
 ],
 "metadata": {
  "kernelspec": {
   "display_name": "Python [conda env:CFA_compute] *",
   "language": "python",
   "name": "conda-env-CFA_compute-py"
  },
  "language_info": {
   "codemirror_mode": {
    "name": "ipython",
    "version": 3
   },
   "file_extension": ".py",
   "mimetype": "text/x-python",
   "name": "python",
   "nbconvert_exporter": "python",
   "pygments_lexer": "ipython3",
   "version": "3.10.12"
  }
 },
 "nbformat": 4,
 "nbformat_minor": 5
}
